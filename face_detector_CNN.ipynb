{
  "cells": [
    {
      "cell_type": "markdown",
      "metadata": {
        "id": "fnhC7ay4lF8P"
      },
      "source": [
        "# Facial recognition with CNN. \n",
        "### This a project to recognize only the face of Chukwunenye (chuks). All other faces detected are to be tagged as not chuks\n",
        "### The CNN architecture to be used is a pretrained MobileNet Architecture \n",
        "\n"
      ]
    },
    {
      "cell_type": "markdown",
      "metadata": {
        "id": "OSwLO9rcpA_K"
      },
      "source": [
        "## Importing all the libraries to be used:"
      ]
    },
    {
      "cell_type": "code",
      "execution_count": 7,
      "metadata": {
        "id": "cNsb9wDnrQg9"
      },
      "outputs": [],
      "source": [
        "import shutil\n",
        "import numpy as np\n",
        "import matplotlib.pyplot as plt\n",
        "import cv2\n",
        "\n",
        "import os"
      ]
    },
    {
      "cell_type": "markdown",
      "metadata": {
        "id": "1wlwbZ7RrMNf"
      },
      "source": [
        "# Importing the dataset for training"
      ]
    },
    {
      "cell_type": "code",
      "source": [
        "from google.colab import drive\n",
        "drive.mount('/content/gdrive')"
      ],
      "metadata": {
        "colab": {
          "base_uri": "https://localhost:8080/"
        },
        "id": "zcHMjAkOcCa9",
        "outputId": "32f0f69f-1b46-4ef1-ed06-bf81d4ec44c3"
      },
      "execution_count": 1,
      "outputs": [
        {
          "output_type": "stream",
          "name": "stdout",
          "text": [
            "Mounted at /content/gdrive\n"
          ]
        }
      ]
    },
    {
      "cell_type": "code",
      "source": [
        "!cp -r \"/content/gdrive/MyDrive/face_pics.zip\" \"/content\""
      ],
      "metadata": {
        "id": "88-YDEudcLgk"
      },
      "execution_count": 2,
      "outputs": []
    },
    {
      "cell_type": "code",
      "source": [
        "from zipfile import ZipFile\n",
        "archive = ZipFile('/content/face_pics.zip')\n",
        "archive.extractall('/content')"
      ],
      "metadata": {
        "id": "kdme3uXScbAn"
      },
      "execution_count": 4,
      "outputs": []
    },
    {
      "cell_type": "code",
      "execution_count": 5,
      "metadata": {
        "id": "-7-zjYoKPvTA"
      },
      "outputs": [],
      "source": [
        "# setting up directories\n",
        "#dataset_path = '/content/training_pictures'\n",
        "\n",
        "chuks_path = '/content/face_pics/training_pictures/chukspics'\n",
        "notchuks_path = '/content/face_pics/training_pictures/otherpictures'\n",
        "\n",
        "train_path='/content/face_pics/training_pictures'\n",
        "test_path = '/content/face_pics/test_pictures'\n",
        "\n"
      ]
    },
    {
      "cell_type": "code",
      "execution_count": 9,
      "metadata": {
        "colab": {
          "base_uri": "https://localhost:8080/"
        },
        "id": "DGD-VpbLcyMD",
        "outputId": "b06fd687-9c3f-4b08-cee6-0e7cac83e12a"
      },
      "outputs": [
        {
          "output_type": "stream",
          "name": "stdout",
          "text": [
            "Image Dimension    :  (480, 640, 3)\n",
            "Image Height       :  480\n",
            "Image Width        :  640\n",
            "Number of Channels :  3\n"
          ]
        }
      ],
      "source": [
        "img = cv2.imread('/content/face_pics/training_pictures/chukspics/chuks0.png', cv2.IMREAD_UNCHANGED)\n",
        " \n",
        "# get dimensions of image\n",
        "dimensions = img.shape\n",
        " \n",
        "# height, width, number of channels in image\n",
        "height = img.shape[0]\n",
        "width = img.shape[1]\n",
        "channels = img.shape[2]\n",
        " \n",
        "print('Image Dimension    : ',dimensions)\n",
        "print('Image Height       : ',height)\n",
        "print('Image Width        : ',width)\n",
        "print('Number of Channels : ',channels)"
      ]
    },
    {
      "cell_type": "code",
      "execution_count": 10,
      "metadata": {
        "colab": {
          "base_uri": "https://localhost:8080/"
        },
        "id": "y6l-UBnbdDII",
        "outputId": "91b5aba3-5e44-4bd5-9cf1-f6dc0ba2bbef"
      },
      "outputs": [
        {
          "output_type": "stream",
          "name": "stdout",
          "text": [
            "Image Dimension    :  (657, 657, 3)\n",
            "Image Height       :  657\n",
            "Image Width        :  657\n",
            "Number of Channels :  3\n"
          ]
        }
      ],
      "source": [
        "img = cv2.imread('/content/face_pics/training_pictures/otherpictures/AA5742_id154_s0_62 - Copy.png', cv2.IMREAD_UNCHANGED)\n",
        " \n",
        "# get dimensions of image\n",
        "dimensions = img.shape\n",
        " \n",
        "# height, width, number of channels in image\n",
        "height = img.shape[0]\n",
        "width = img.shape[1]\n",
        "channels = img.shape[2]\n",
        " \n",
        "print('Image Dimension    : ',dimensions)\n",
        "print('Image Height       : ',height)\n",
        "print('Image Width        : ',width)\n",
        "print('Number of Channels : ',channels)"
      ]
    },
    {
      "cell_type": "code",
      "execution_count": 11,
      "metadata": {
        "id": "xPmTF0WhRBB8"
      },
      "outputs": [],
      "source": [
        "category=['chuk','notchuks']"
      ]
    },
    {
      "cell_type": "code",
      "execution_count": 12,
      "metadata": {
        "id": "kOG_xpCWLqOa"
      },
      "outputs": [],
      "source": [
        "# Importing necessary Keras libraries for the AI model\n",
        "\n",
        "from keras.layers import Dense,Dropout,Input,Flatten\n",
        "from keras.models import Model\n",
        "from keras.optimizers import Adam\n",
        "from keras.preprocessing.image import ImageDataGenerator\n",
        "from keras.callbacks import ModelCheckpoint\n",
        "from keras.applications.mobilenet_v2 import MobileNetV2\n",
        "from keras.models import model_from_json\n",
        "import json"
      ]
    },
    {
      "cell_type": "markdown",
      "source": [
        "###### Data augumentaion"
      ],
      "metadata": {
        "id": "NDeqYLdLgkYh"
      }
    },
    {
      "cell_type": "code",
      "execution_count": 13,
      "metadata": {
        "id": "pi4fC8J5M8dS"
      },
      "outputs": [],
      "source": [
        "\n",
        "train_datagen = ImageDataGenerator(brightness_range=(0.8,1.2),\n",
        "                                   rotation_range=30,\n",
        "                                   width_shift_range=0.2,\n",
        "                                   height_shift_range=0.2,\n",
        "                                   fill_mode='nearest',\n",
        "                                   shear_range=0.2,\n",
        "                                   zoom_range=0.3,\n",
        "                                   rescale=1./255)\n",
        "\n",
        "valid_datagen = ImageDataGenerator(rescale=1./255)"
      ]
    },
    {
      "cell_type": "code",
      "execution_count": 14,
      "metadata": {
        "colab": {
          "base_uri": "https://localhost:8080/"
        },
        "id": "MykSV3A6NAp3",
        "outputId": "22117e49-2c1e-42a4-e8af-3d55b2e51872"
      },
      "outputs": [
        {
          "output_type": "stream",
          "name": "stdout",
          "text": [
            "Found 108 images belonging to 2 classes.\n"
          ]
        }
      ],
      "source": [
        "train_generator = train_datagen.flow_from_directory(train_path,\n",
        "                                                    target_size=(160,160),\n",
        "                                                    color_mode='rgb',\n",
        "                                                    class_mode='binary',\n",
        "                                                    batch_size=25,\n",
        "                                                    shuffle=True)"
      ]
    },
    {
      "cell_type": "code",
      "execution_count": 15,
      "metadata": {
        "colab": {
          "base_uri": "https://localhost:8080/"
        },
        "id": "V4wk8yg1WRD5",
        "outputId": "c570426a-6750-4e4e-a93e-c98ae8e6625e"
      },
      "outputs": [
        {
          "output_type": "stream",
          "name": "stdout",
          "text": [
            "Found 38 images belonging to 2 classes.\n"
          ]
        }
      ],
      "source": [
        "valid_generator = valid_datagen.flow_from_directory(test_path,\n",
        "                                                    target_size=(160,160),\n",
        "                                                    color_mode='rgb',\n",
        "                                                    class_mode='binary',\n",
        "                                                    batch_size=25)"
      ]
    },
    {
      "cell_type": "markdown",
      "source": [
        "### MobileNets: Efficient Convolutional Neural Networks for Mobile Vision Applications” MobileNet is a streamlined architecture that uses Depthwise Separable convolutions to construct lightweight deep convolutional neural networks and provides an efficient model for mobile and embedded vision applications"
      ],
      "metadata": {
        "id": "fiymfjvadOmi"
      }
    },
    {
      "cell_type": "code",
      "execution_count": 16,
      "metadata": {
        "colab": {
          "base_uri": "https://localhost:8080/"
        },
        "id": "xxU5a2A1NHXT",
        "outputId": "4a488330-aaa9-4504-db85-8416187a99b3"
      },
      "outputs": [
        {
          "output_type": "stream",
          "name": "stderr",
          "text": [
            "WARNING:tensorflow:`input_shape` is undefined or non-square, or `rows` is not in [96, 128, 160, 192, 224]. Weights for input shape (224, 224) will be loaded as the default.\n"
          ]
        },
        {
          "output_type": "stream",
          "name": "stdout",
          "text": [
            "Downloading data from https://storage.googleapis.com/tensorflow/keras-applications/mobilenet_v2/mobilenet_v2_weights_tf_dim_ordering_tf_kernels_1.0_224_no_top.h5\n",
            "9406464/9406464 [==============================] - 0s 0us/step\n"
          ]
        }
      ],
      "source": [
        "mobilenet = MobileNetV2(weights=\"imagenet\",\n",
        "                        include_top=False,\n",
        "                        input_tensor=Input(shape=(160,160,3)))"
      ]
    },
    {
      "cell_type": "code",
      "execution_count": 17,
      "metadata": {
        "id": "anHEmH3lNLtw"
      },
      "outputs": [],
      "source": [
        "mobilenet.trainable = False"
      ]
    },
    {
      "cell_type": "code",
      "execution_count": 18,
      "metadata": {
        "id": "nGHYhOfmTMiU"
      },
      "outputs": [],
      "source": [
        "output = Flatten()(mobilenet.output)\n",
        "output = Dropout(0.3)(output)\n",
        "output = Dense(units = 8,activation='relu')(output)\n",
        "prediction = Dense(1,activation='sigmoid')(output)"
      ]
    },
    {
      "cell_type": "code",
      "execution_count": 21,
      "metadata": {
        "id": "BF0l7Q71TR2V",
        "colab": {
          "base_uri": "https://localhost:8080/"
        },
        "outputId": "79b1e0e9-a7a0-46bc-b928-8921fdaa645d"
      },
      "outputs": [
        {
          "output_type": "stream",
          "name": "stdout",
          "text": [
            "Model: \"model_1\"\n",
            "__________________________________________________________________________________________________\n",
            " Layer (type)                   Output Shape         Param #     Connected to                     \n",
            "==================================================================================================\n",
            " input_1 (InputLayer)           [(None, 160, 160, 3  0           []                               \n",
            "                                )]                                                                \n",
            "                                                                                                  \n",
            " Conv1 (Conv2D)                 (None, 80, 80, 32)   864         ['input_1[0][0]']                \n",
            "                                                                                                  \n",
            " bn_Conv1 (BatchNormalization)  (None, 80, 80, 32)   128         ['Conv1[0][0]']                  \n",
            "                                                                                                  \n",
            " Conv1_relu (ReLU)              (None, 80, 80, 32)   0           ['bn_Conv1[0][0]']               \n",
            "                                                                                                  \n",
            " expanded_conv_depthwise (Depth  (None, 80, 80, 32)  288         ['Conv1_relu[0][0]']             \n",
            " wiseConv2D)                                                                                      \n",
            "                                                                                                  \n",
            " expanded_conv_depthwise_BN (Ba  (None, 80, 80, 32)  128         ['expanded_conv_depthwise[0][0]']\n",
            " tchNormalization)                                                                                \n",
            "                                                                                                  \n",
            " expanded_conv_depthwise_relu (  (None, 80, 80, 32)  0           ['expanded_conv_depthwise_BN[0][0\n",
            " ReLU)                                                           ]']                              \n",
            "                                                                                                  \n",
            " expanded_conv_project (Conv2D)  (None, 80, 80, 16)  512         ['expanded_conv_depthwise_relu[0]\n",
            "                                                                 [0]']                            \n",
            "                                                                                                  \n",
            " expanded_conv_project_BN (Batc  (None, 80, 80, 16)  64          ['expanded_conv_project[0][0]']  \n",
            " hNormalization)                                                                                  \n",
            "                                                                                                  \n",
            " block_1_expand (Conv2D)        (None, 80, 80, 96)   1536        ['expanded_conv_project_BN[0][0]'\n",
            "                                                                 ]                                \n",
            "                                                                                                  \n",
            " block_1_expand_BN (BatchNormal  (None, 80, 80, 96)  384         ['block_1_expand[0][0]']         \n",
            " ization)                                                                                         \n",
            "                                                                                                  \n",
            " block_1_expand_relu (ReLU)     (None, 80, 80, 96)   0           ['block_1_expand_BN[0][0]']      \n",
            "                                                                                                  \n",
            " block_1_pad (ZeroPadding2D)    (None, 81, 81, 96)   0           ['block_1_expand_relu[0][0]']    \n",
            "                                                                                                  \n",
            " block_1_depthwise (DepthwiseCo  (None, 40, 40, 96)  864         ['block_1_pad[0][0]']            \n",
            " nv2D)                                                                                            \n",
            "                                                                                                  \n",
            " block_1_depthwise_BN (BatchNor  (None, 40, 40, 96)  384         ['block_1_depthwise[0][0]']      \n",
            " malization)                                                                                      \n",
            "                                                                                                  \n",
            " block_1_depthwise_relu (ReLU)  (None, 40, 40, 96)   0           ['block_1_depthwise_BN[0][0]']   \n",
            "                                                                                                  \n",
            " block_1_project (Conv2D)       (None, 40, 40, 24)   2304        ['block_1_depthwise_relu[0][0]'] \n",
            "                                                                                                  \n",
            " block_1_project_BN (BatchNorma  (None, 40, 40, 24)  96          ['block_1_project[0][0]']        \n",
            " lization)                                                                                        \n",
            "                                                                                                  \n",
            " block_2_expand (Conv2D)        (None, 40, 40, 144)  3456        ['block_1_project_BN[0][0]']     \n",
            "                                                                                                  \n",
            " block_2_expand_BN (BatchNormal  (None, 40, 40, 144)  576        ['block_2_expand[0][0]']         \n",
            " ization)                                                                                         \n",
            "                                                                                                  \n",
            " block_2_expand_relu (ReLU)     (None, 40, 40, 144)  0           ['block_2_expand_BN[0][0]']      \n",
            "                                                                                                  \n",
            " block_2_depthwise (DepthwiseCo  (None, 40, 40, 144)  1296       ['block_2_expand_relu[0][0]']    \n",
            " nv2D)                                                                                            \n",
            "                                                                                                  \n",
            " block_2_depthwise_BN (BatchNor  (None, 40, 40, 144)  576        ['block_2_depthwise[0][0]']      \n",
            " malization)                                                                                      \n",
            "                                                                                                  \n",
            " block_2_depthwise_relu (ReLU)  (None, 40, 40, 144)  0           ['block_2_depthwise_BN[0][0]']   \n",
            "                                                                                                  \n",
            " block_2_project (Conv2D)       (None, 40, 40, 24)   3456        ['block_2_depthwise_relu[0][0]'] \n",
            "                                                                                                  \n",
            " block_2_project_BN (BatchNorma  (None, 40, 40, 24)  96          ['block_2_project[0][0]']        \n",
            " lization)                                                                                        \n",
            "                                                                                                  \n",
            " block_2_add (Add)              (None, 40, 40, 24)   0           ['block_1_project_BN[0][0]',     \n",
            "                                                                  'block_2_project_BN[0][0]']     \n",
            "                                                                                                  \n",
            " block_3_expand (Conv2D)        (None, 40, 40, 144)  3456        ['block_2_add[0][0]']            \n",
            "                                                                                                  \n",
            " block_3_expand_BN (BatchNormal  (None, 40, 40, 144)  576        ['block_3_expand[0][0]']         \n",
            " ization)                                                                                         \n",
            "                                                                                                  \n",
            " block_3_expand_relu (ReLU)     (None, 40, 40, 144)  0           ['block_3_expand_BN[0][0]']      \n",
            "                                                                                                  \n",
            " block_3_pad (ZeroPadding2D)    (None, 41, 41, 144)  0           ['block_3_expand_relu[0][0]']    \n",
            "                                                                                                  \n",
            " block_3_depthwise (DepthwiseCo  (None, 20, 20, 144)  1296       ['block_3_pad[0][0]']            \n",
            " nv2D)                                                                                            \n",
            "                                                                                                  \n",
            " block_3_depthwise_BN (BatchNor  (None, 20, 20, 144)  576        ['block_3_depthwise[0][0]']      \n",
            " malization)                                                                                      \n",
            "                                                                                                  \n",
            " block_3_depthwise_relu (ReLU)  (None, 20, 20, 144)  0           ['block_3_depthwise_BN[0][0]']   \n",
            "                                                                                                  \n",
            " block_3_project (Conv2D)       (None, 20, 20, 32)   4608        ['block_3_depthwise_relu[0][0]'] \n",
            "                                                                                                  \n",
            " block_3_project_BN (BatchNorma  (None, 20, 20, 32)  128         ['block_3_project[0][0]']        \n",
            " lization)                                                                                        \n",
            "                                                                                                  \n",
            " block_4_expand (Conv2D)        (None, 20, 20, 192)  6144        ['block_3_project_BN[0][0]']     \n",
            "                                                                                                  \n",
            " block_4_expand_BN (BatchNormal  (None, 20, 20, 192)  768        ['block_4_expand[0][0]']         \n",
            " ization)                                                                                         \n",
            "                                                                                                  \n",
            " block_4_expand_relu (ReLU)     (None, 20, 20, 192)  0           ['block_4_expand_BN[0][0]']      \n",
            "                                                                                                  \n",
            " block_4_depthwise (DepthwiseCo  (None, 20, 20, 192)  1728       ['block_4_expand_relu[0][0]']    \n",
            " nv2D)                                                                                            \n",
            "                                                                                                  \n",
            " block_4_depthwise_BN (BatchNor  (None, 20, 20, 192)  768        ['block_4_depthwise[0][0]']      \n",
            " malization)                                                                                      \n",
            "                                                                                                  \n",
            " block_4_depthwise_relu (ReLU)  (None, 20, 20, 192)  0           ['block_4_depthwise_BN[0][0]']   \n",
            "                                                                                                  \n",
            " block_4_project (Conv2D)       (None, 20, 20, 32)   6144        ['block_4_depthwise_relu[0][0]'] \n",
            "                                                                                                  \n",
            " block_4_project_BN (BatchNorma  (None, 20, 20, 32)  128         ['block_4_project[0][0]']        \n",
            " lization)                                                                                        \n",
            "                                                                                                  \n",
            " block_4_add (Add)              (None, 20, 20, 32)   0           ['block_3_project_BN[0][0]',     \n",
            "                                                                  'block_4_project_BN[0][0]']     \n",
            "                                                                                                  \n",
            " block_5_expand (Conv2D)        (None, 20, 20, 192)  6144        ['block_4_add[0][0]']            \n",
            "                                                                                                  \n",
            " block_5_expand_BN (BatchNormal  (None, 20, 20, 192)  768        ['block_5_expand[0][0]']         \n",
            " ization)                                                                                         \n",
            "                                                                                                  \n",
            " block_5_expand_relu (ReLU)     (None, 20, 20, 192)  0           ['block_5_expand_BN[0][0]']      \n",
            "                                                                                                  \n",
            " block_5_depthwise (DepthwiseCo  (None, 20, 20, 192)  1728       ['block_5_expand_relu[0][0]']    \n",
            " nv2D)                                                                                            \n",
            "                                                                                                  \n",
            " block_5_depthwise_BN (BatchNor  (None, 20, 20, 192)  768        ['block_5_depthwise[0][0]']      \n",
            " malization)                                                                                      \n",
            "                                                                                                  \n",
            " block_5_depthwise_relu (ReLU)  (None, 20, 20, 192)  0           ['block_5_depthwise_BN[0][0]']   \n",
            "                                                                                                  \n",
            " block_5_project (Conv2D)       (None, 20, 20, 32)   6144        ['block_5_depthwise_relu[0][0]'] \n",
            "                                                                                                  \n",
            " block_5_project_BN (BatchNorma  (None, 20, 20, 32)  128         ['block_5_project[0][0]']        \n",
            " lization)                                                                                        \n",
            "                                                                                                  \n",
            " block_5_add (Add)              (None, 20, 20, 32)   0           ['block_4_add[0][0]',            \n",
            "                                                                  'block_5_project_BN[0][0]']     \n",
            "                                                                                                  \n",
            " block_6_expand (Conv2D)        (None, 20, 20, 192)  6144        ['block_5_add[0][0]']            \n",
            "                                                                                                  \n",
            " block_6_expand_BN (BatchNormal  (None, 20, 20, 192)  768        ['block_6_expand[0][0]']         \n",
            " ization)                                                                                         \n",
            "                                                                                                  \n",
            " block_6_expand_relu (ReLU)     (None, 20, 20, 192)  0           ['block_6_expand_BN[0][0]']      \n",
            "                                                                                                  \n",
            " block_6_pad (ZeroPadding2D)    (None, 21, 21, 192)  0           ['block_6_expand_relu[0][0]']    \n",
            "                                                                                                  \n",
            " block_6_depthwise (DepthwiseCo  (None, 10, 10, 192)  1728       ['block_6_pad[0][0]']            \n",
            " nv2D)                                                                                            \n",
            "                                                                                                  \n",
            " block_6_depthwise_BN (BatchNor  (None, 10, 10, 192)  768        ['block_6_depthwise[0][0]']      \n",
            " malization)                                                                                      \n",
            "                                                                                                  \n",
            " block_6_depthwise_relu (ReLU)  (None, 10, 10, 192)  0           ['block_6_depthwise_BN[0][0]']   \n",
            "                                                                                                  \n",
            " block_6_project (Conv2D)       (None, 10, 10, 64)   12288       ['block_6_depthwise_relu[0][0]'] \n",
            "                                                                                                  \n",
            " block_6_project_BN (BatchNorma  (None, 10, 10, 64)  256         ['block_6_project[0][0]']        \n",
            " lization)                                                                                        \n",
            "                                                                                                  \n",
            " block_7_expand (Conv2D)        (None, 10, 10, 384)  24576       ['block_6_project_BN[0][0]']     \n",
            "                                                                                                  \n",
            " block_7_expand_BN (BatchNormal  (None, 10, 10, 384)  1536       ['block_7_expand[0][0]']         \n",
            " ization)                                                                                         \n",
            "                                                                                                  \n",
            " block_7_expand_relu (ReLU)     (None, 10, 10, 384)  0           ['block_7_expand_BN[0][0]']      \n",
            "                                                                                                  \n",
            " block_7_depthwise (DepthwiseCo  (None, 10, 10, 384)  3456       ['block_7_expand_relu[0][0]']    \n",
            " nv2D)                                                                                            \n",
            "                                                                                                  \n",
            " block_7_depthwise_BN (BatchNor  (None, 10, 10, 384)  1536       ['block_7_depthwise[0][0]']      \n",
            " malization)                                                                                      \n",
            "                                                                                                  \n",
            " block_7_depthwise_relu (ReLU)  (None, 10, 10, 384)  0           ['block_7_depthwise_BN[0][0]']   \n",
            "                                                                                                  \n",
            " block_7_project (Conv2D)       (None, 10, 10, 64)   24576       ['block_7_depthwise_relu[0][0]'] \n",
            "                                                                                                  \n",
            " block_7_project_BN (BatchNorma  (None, 10, 10, 64)  256         ['block_7_project[0][0]']        \n",
            " lization)                                                                                        \n",
            "                                                                                                  \n",
            " block_7_add (Add)              (None, 10, 10, 64)   0           ['block_6_project_BN[0][0]',     \n",
            "                                                                  'block_7_project_BN[0][0]']     \n",
            "                                                                                                  \n",
            " block_8_expand (Conv2D)        (None, 10, 10, 384)  24576       ['block_7_add[0][0]']            \n",
            "                                                                                                  \n",
            " block_8_expand_BN (BatchNormal  (None, 10, 10, 384)  1536       ['block_8_expand[0][0]']         \n",
            " ization)                                                                                         \n",
            "                                                                                                  \n",
            " block_8_expand_relu (ReLU)     (None, 10, 10, 384)  0           ['block_8_expand_BN[0][0]']      \n",
            "                                                                                                  \n",
            " block_8_depthwise (DepthwiseCo  (None, 10, 10, 384)  3456       ['block_8_expand_relu[0][0]']    \n",
            " nv2D)                                                                                            \n",
            "                                                                                                  \n",
            " block_8_depthwise_BN (BatchNor  (None, 10, 10, 384)  1536       ['block_8_depthwise[0][0]']      \n",
            " malization)                                                                                      \n",
            "                                                                                                  \n",
            " block_8_depthwise_relu (ReLU)  (None, 10, 10, 384)  0           ['block_8_depthwise_BN[0][0]']   \n",
            "                                                                                                  \n",
            " block_8_project (Conv2D)       (None, 10, 10, 64)   24576       ['block_8_depthwise_relu[0][0]'] \n",
            "                                                                                                  \n",
            " block_8_project_BN (BatchNorma  (None, 10, 10, 64)  256         ['block_8_project[0][0]']        \n",
            " lization)                                                                                        \n",
            "                                                                                                  \n",
            " block_8_add (Add)              (None, 10, 10, 64)   0           ['block_7_add[0][0]',            \n",
            "                                                                  'block_8_project_BN[0][0]']     \n",
            "                                                                                                  \n",
            " block_9_expand (Conv2D)        (None, 10, 10, 384)  24576       ['block_8_add[0][0]']            \n",
            "                                                                                                  \n",
            " block_9_expand_BN (BatchNormal  (None, 10, 10, 384)  1536       ['block_9_expand[0][0]']         \n",
            " ization)                                                                                         \n",
            "                                                                                                  \n",
            " block_9_expand_relu (ReLU)     (None, 10, 10, 384)  0           ['block_9_expand_BN[0][0]']      \n",
            "                                                                                                  \n",
            " block_9_depthwise (DepthwiseCo  (None, 10, 10, 384)  3456       ['block_9_expand_relu[0][0]']    \n",
            " nv2D)                                                                                            \n",
            "                                                                                                  \n",
            " block_9_depthwise_BN (BatchNor  (None, 10, 10, 384)  1536       ['block_9_depthwise[0][0]']      \n",
            " malization)                                                                                      \n",
            "                                                                                                  \n",
            " block_9_depthwise_relu (ReLU)  (None, 10, 10, 384)  0           ['block_9_depthwise_BN[0][0]']   \n",
            "                                                                                                  \n",
            " block_9_project (Conv2D)       (None, 10, 10, 64)   24576       ['block_9_depthwise_relu[0][0]'] \n",
            "                                                                                                  \n",
            " block_9_project_BN (BatchNorma  (None, 10, 10, 64)  256         ['block_9_project[0][0]']        \n",
            " lization)                                                                                        \n",
            "                                                                                                  \n",
            " block_9_add (Add)              (None, 10, 10, 64)   0           ['block_8_add[0][0]',            \n",
            "                                                                  'block_9_project_BN[0][0]']     \n",
            "                                                                                                  \n",
            " block_10_expand (Conv2D)       (None, 10, 10, 384)  24576       ['block_9_add[0][0]']            \n",
            "                                                                                                  \n",
            " block_10_expand_BN (BatchNorma  (None, 10, 10, 384)  1536       ['block_10_expand[0][0]']        \n",
            " lization)                                                                                        \n",
            "                                                                                                  \n",
            " block_10_expand_relu (ReLU)    (None, 10, 10, 384)  0           ['block_10_expand_BN[0][0]']     \n",
            "                                                                                                  \n",
            " block_10_depthwise (DepthwiseC  (None, 10, 10, 384)  3456       ['block_10_expand_relu[0][0]']   \n",
            " onv2D)                                                                                           \n",
            "                                                                                                  \n",
            " block_10_depthwise_BN (BatchNo  (None, 10, 10, 384)  1536       ['block_10_depthwise[0][0]']     \n",
            " rmalization)                                                                                     \n",
            "                                                                                                  \n",
            " block_10_depthwise_relu (ReLU)  (None, 10, 10, 384)  0          ['block_10_depthwise_BN[0][0]']  \n",
            "                                                                                                  \n",
            " block_10_project (Conv2D)      (None, 10, 10, 96)   36864       ['block_10_depthwise_relu[0][0]']\n",
            "                                                                                                  \n",
            " block_10_project_BN (BatchNorm  (None, 10, 10, 96)  384         ['block_10_project[0][0]']       \n",
            " alization)                                                                                       \n",
            "                                                                                                  \n",
            " block_11_expand (Conv2D)       (None, 10, 10, 576)  55296       ['block_10_project_BN[0][0]']    \n",
            "                                                                                                  \n",
            " block_11_expand_BN (BatchNorma  (None, 10, 10, 576)  2304       ['block_11_expand[0][0]']        \n",
            " lization)                                                                                        \n",
            "                                                                                                  \n",
            " block_11_expand_relu (ReLU)    (None, 10, 10, 576)  0           ['block_11_expand_BN[0][0]']     \n",
            "                                                                                                  \n",
            " block_11_depthwise (DepthwiseC  (None, 10, 10, 576)  5184       ['block_11_expand_relu[0][0]']   \n",
            " onv2D)                                                                                           \n",
            "                                                                                                  \n",
            " block_11_depthwise_BN (BatchNo  (None, 10, 10, 576)  2304       ['block_11_depthwise[0][0]']     \n",
            " rmalization)                                                                                     \n",
            "                                                                                                  \n",
            " block_11_depthwise_relu (ReLU)  (None, 10, 10, 576)  0          ['block_11_depthwise_BN[0][0]']  \n",
            "                                                                                                  \n",
            " block_11_project (Conv2D)      (None, 10, 10, 96)   55296       ['block_11_depthwise_relu[0][0]']\n",
            "                                                                                                  \n",
            " block_11_project_BN (BatchNorm  (None, 10, 10, 96)  384         ['block_11_project[0][0]']       \n",
            " alization)                                                                                       \n",
            "                                                                                                  \n",
            " block_11_add (Add)             (None, 10, 10, 96)   0           ['block_10_project_BN[0][0]',    \n",
            "                                                                  'block_11_project_BN[0][0]']    \n",
            "                                                                                                  \n",
            " block_12_expand (Conv2D)       (None, 10, 10, 576)  55296       ['block_11_add[0][0]']           \n",
            "                                                                                                  \n",
            " block_12_expand_BN (BatchNorma  (None, 10, 10, 576)  2304       ['block_12_expand[0][0]']        \n",
            " lization)                                                                                        \n",
            "                                                                                                  \n",
            " block_12_expand_relu (ReLU)    (None, 10, 10, 576)  0           ['block_12_expand_BN[0][0]']     \n",
            "                                                                                                  \n",
            " block_12_depthwise (DepthwiseC  (None, 10, 10, 576)  5184       ['block_12_expand_relu[0][0]']   \n",
            " onv2D)                                                                                           \n",
            "                                                                                                  \n",
            " block_12_depthwise_BN (BatchNo  (None, 10, 10, 576)  2304       ['block_12_depthwise[0][0]']     \n",
            " rmalization)                                                                                     \n",
            "                                                                                                  \n",
            " block_12_depthwise_relu (ReLU)  (None, 10, 10, 576)  0          ['block_12_depthwise_BN[0][0]']  \n",
            "                                                                                                  \n",
            " block_12_project (Conv2D)      (None, 10, 10, 96)   55296       ['block_12_depthwise_relu[0][0]']\n",
            "                                                                                                  \n",
            " block_12_project_BN (BatchNorm  (None, 10, 10, 96)  384         ['block_12_project[0][0]']       \n",
            " alization)                                                                                       \n",
            "                                                                                                  \n",
            " block_12_add (Add)             (None, 10, 10, 96)   0           ['block_11_add[0][0]',           \n",
            "                                                                  'block_12_project_BN[0][0]']    \n",
            "                                                                                                  \n",
            " block_13_expand (Conv2D)       (None, 10, 10, 576)  55296       ['block_12_add[0][0]']           \n",
            "                                                                                                  \n",
            " block_13_expand_BN (BatchNorma  (None, 10, 10, 576)  2304       ['block_13_expand[0][0]']        \n",
            " lization)                                                                                        \n",
            "                                                                                                  \n",
            " block_13_expand_relu (ReLU)    (None, 10, 10, 576)  0           ['block_13_expand_BN[0][0]']     \n",
            "                                                                                                  \n",
            " block_13_pad (ZeroPadding2D)   (None, 11, 11, 576)  0           ['block_13_expand_relu[0][0]']   \n",
            "                                                                                                  \n",
            " block_13_depthwise (DepthwiseC  (None, 5, 5, 576)   5184        ['block_13_pad[0][0]']           \n",
            " onv2D)                                                                                           \n",
            "                                                                                                  \n",
            " block_13_depthwise_BN (BatchNo  (None, 5, 5, 576)   2304        ['block_13_depthwise[0][0]']     \n",
            " rmalization)                                                                                     \n",
            "                                                                                                  \n",
            " block_13_depthwise_relu (ReLU)  (None, 5, 5, 576)   0           ['block_13_depthwise_BN[0][0]']  \n",
            "                                                                                                  \n",
            " block_13_project (Conv2D)      (None, 5, 5, 160)    92160       ['block_13_depthwise_relu[0][0]']\n",
            "                                                                                                  \n",
            " block_13_project_BN (BatchNorm  (None, 5, 5, 160)   640         ['block_13_project[0][0]']       \n",
            " alization)                                                                                       \n",
            "                                                                                                  \n",
            " block_14_expand (Conv2D)       (None, 5, 5, 960)    153600      ['block_13_project_BN[0][0]']    \n",
            "                                                                                                  \n",
            " block_14_expand_BN (BatchNorma  (None, 5, 5, 960)   3840        ['block_14_expand[0][0]']        \n",
            " lization)                                                                                        \n",
            "                                                                                                  \n",
            " block_14_expand_relu (ReLU)    (None, 5, 5, 960)    0           ['block_14_expand_BN[0][0]']     \n",
            "                                                                                                  \n",
            " block_14_depthwise (DepthwiseC  (None, 5, 5, 960)   8640        ['block_14_expand_relu[0][0]']   \n",
            " onv2D)                                                                                           \n",
            "                                                                                                  \n",
            " block_14_depthwise_BN (BatchNo  (None, 5, 5, 960)   3840        ['block_14_depthwise[0][0]']     \n",
            " rmalization)                                                                                     \n",
            "                                                                                                  \n",
            " block_14_depthwise_relu (ReLU)  (None, 5, 5, 960)   0           ['block_14_depthwise_BN[0][0]']  \n",
            "                                                                                                  \n",
            " block_14_project (Conv2D)      (None, 5, 5, 160)    153600      ['block_14_depthwise_relu[0][0]']\n",
            "                                                                                                  \n",
            " block_14_project_BN (BatchNorm  (None, 5, 5, 160)   640         ['block_14_project[0][0]']       \n",
            " alization)                                                                                       \n",
            "                                                                                                  \n",
            " block_14_add (Add)             (None, 5, 5, 160)    0           ['block_13_project_BN[0][0]',    \n",
            "                                                                  'block_14_project_BN[0][0]']    \n",
            "                                                                                                  \n",
            " block_15_expand (Conv2D)       (None, 5, 5, 960)    153600      ['block_14_add[0][0]']           \n",
            "                                                                                                  \n",
            " block_15_expand_BN (BatchNorma  (None, 5, 5, 960)   3840        ['block_15_expand[0][0]']        \n",
            " lization)                                                                                        \n",
            "                                                                                                  \n",
            " block_15_expand_relu (ReLU)    (None, 5, 5, 960)    0           ['block_15_expand_BN[0][0]']     \n",
            "                                                                                                  \n",
            " block_15_depthwise (DepthwiseC  (None, 5, 5, 960)   8640        ['block_15_expand_relu[0][0]']   \n",
            " onv2D)                                                                                           \n",
            "                                                                                                  \n",
            " block_15_depthwise_BN (BatchNo  (None, 5, 5, 960)   3840        ['block_15_depthwise[0][0]']     \n",
            " rmalization)                                                                                     \n",
            "                                                                                                  \n",
            " block_15_depthwise_relu (ReLU)  (None, 5, 5, 960)   0           ['block_15_depthwise_BN[0][0]']  \n",
            "                                                                                                  \n",
            " block_15_project (Conv2D)      (None, 5, 5, 160)    153600      ['block_15_depthwise_relu[0][0]']\n",
            "                                                                                                  \n",
            " block_15_project_BN (BatchNorm  (None, 5, 5, 160)   640         ['block_15_project[0][0]']       \n",
            " alization)                                                                                       \n",
            "                                                                                                  \n",
            " block_15_add (Add)             (None, 5, 5, 160)    0           ['block_14_add[0][0]',           \n",
            "                                                                  'block_15_project_BN[0][0]']    \n",
            "                                                                                                  \n",
            " block_16_expand (Conv2D)       (None, 5, 5, 960)    153600      ['block_15_add[0][0]']           \n",
            "                                                                                                  \n",
            " block_16_expand_BN (BatchNorma  (None, 5, 5, 960)   3840        ['block_16_expand[0][0]']        \n",
            " lization)                                                                                        \n",
            "                                                                                                  \n",
            " block_16_expand_relu (ReLU)    (None, 5, 5, 960)    0           ['block_16_expand_BN[0][0]']     \n",
            "                                                                                                  \n",
            " block_16_depthwise (DepthwiseC  (None, 5, 5, 960)   8640        ['block_16_expand_relu[0][0]']   \n",
            " onv2D)                                                                                           \n",
            "                                                                                                  \n",
            " block_16_depthwise_BN (BatchNo  (None, 5, 5, 960)   3840        ['block_16_depthwise[0][0]']     \n",
            " rmalization)                                                                                     \n",
            "                                                                                                  \n",
            " block_16_depthwise_relu (ReLU)  (None, 5, 5, 960)   0           ['block_16_depthwise_BN[0][0]']  \n",
            "                                                                                                  \n",
            " block_16_project (Conv2D)      (None, 5, 5, 320)    307200      ['block_16_depthwise_relu[0][0]']\n",
            "                                                                                                  \n",
            " block_16_project_BN (BatchNorm  (None, 5, 5, 320)   1280        ['block_16_project[0][0]']       \n",
            " alization)                                                                                       \n",
            "                                                                                                  \n",
            " Conv_1 (Conv2D)                (None, 5, 5, 1280)   409600      ['block_16_project_BN[0][0]']    \n",
            "                                                                                                  \n",
            " Conv_1_bn (BatchNormalization)  (None, 5, 5, 1280)  5120        ['Conv_1[0][0]']                 \n",
            "                                                                                                  \n",
            " out_relu (ReLU)                (None, 5, 5, 1280)   0           ['Conv_1_bn[0][0]']              \n",
            "                                                                                                  \n",
            " flatten (Flatten)              (None, 32000)        0           ['out_relu[0][0]']               \n",
            "                                                                                                  \n",
            " dropout (Dropout)              (None, 32000)        0           ['flatten[0][0]']                \n",
            "                                                                                                  \n",
            " dense (Dense)                  (None, 8)            256008      ['dropout[0][0]']                \n",
            "                                                                                                  \n",
            " dense_1 (Dense)                (None, 1)            9           ['dense[0][0]']                  \n",
            "                                                                                                  \n",
            "==================================================================================================\n",
            "Total params: 2,514,001\n",
            "Trainable params: 256,017\n",
            "Non-trainable params: 2,257,984\n",
            "__________________________________________________________________________________________________\n"
          ]
        }
      ],
      "source": [
        "# making an instance of the mobilenet model\n",
        "model = Model(inputs = mobilenet.input,outputs = prediction)\n",
        "model.summary()"
      ]
    },
    {
      "cell_type": "code",
      "execution_count": 25,
      "metadata": {
        "id": "0_cY5Od3UDPs"
      },
      "outputs": [],
      "source": [
        "# Compiling the model\n",
        "model.compile(\n",
        "  loss='binary_crossentropy',\n",
        "  optimizer=Adam(\n",
        "    learning_rate=0.000001,\n",
        "    beta_1=0.9,\n",
        "    beta_2=0.999,\n",
        "    epsilon=1e-07\n",
        "),\n",
        "  metrics=['accuracy']\n",
        ")"
      ]
    },
    {
      "cell_type": "markdown",
      "source": [
        "#### Model checkpoint: storing the weights of the cnn model"
      ],
      "metadata": {
        "id": "9U_GJ1d0fzFz"
      }
    },
    {
      "cell_type": "code",
      "execution_count": 22,
      "metadata": {
        "id": "mVayBvcZUENy"
      },
      "outputs": [],
      "source": [
        "# Creating a directory to store model weights for model checkpoint\n",
        "os.mkdir('/content/model_weights/')"
      ]
    },
    {
      "cell_type": "code",
      "execution_count": 23,
      "metadata": {
        "id": "-LpTEaNUUH92"
      },
      "outputs": [],
      "source": [
        "# model checkpoint\n",
        "model_checkpoint = ModelCheckpoint('./model_weights/chuks_model_{epoch:02d}-{val_accuracy:.6f}.h5',\n",
        "                                   monitor='val_loss', \n",
        "                                   mode='min', \n",
        "                                   verbose=1, \n",
        "                                   save_best_only=True,\n",
        "                                   save_weights_only=True)\n",
        "     \n"
      ]
    },
    {
      "cell_type": "markdown",
      "source": [
        "##### Trained the model with 70 epochs"
      ],
      "metadata": {
        "id": "3pV0_0yihmW5"
      }
    },
    {
      "cell_type": "code",
      "execution_count": 26,
      "metadata": {
        "colab": {
          "base_uri": "https://localhost:8080/"
        },
        "id": "aq1292OSUQbu",
        "outputId": "caa3d301-6f14-4b2a-e478-f996bd22b80d"
      },
      "outputs": [
        {
          "output_type": "stream",
          "name": "stderr",
          "text": [
            "<ipython-input-26-888af3742e9a>:1: UserWarning: `Model.fit_generator` is deprecated and will be removed in a future version. Please use `Model.fit`, which supports generators.\n",
            "  history = model.fit_generator(\n"
          ]
        },
        {
          "output_type": "stream",
          "name": "stdout",
          "text": [
            "Epoch 1/70\n",
            "5/5 [==============================] - ETA: 0s - loss: 1.9640 - accuracy: 0.3981\n",
            "Epoch 1: val_loss improved from inf to 1.06065, saving model to ./model_weights/chuks_model_01-0.447368.h5\n",
            "5/5 [==============================] - 14s 1s/step - loss: 1.9640 - accuracy: 0.3981 - val_loss: 1.0607 - val_accuracy: 0.4474\n",
            "Epoch 2/70\n",
            "5/5 [==============================] - ETA: 0s - loss: 1.5317 - accuracy: 0.3981\n",
            "Epoch 2: val_loss improved from 1.06065 to 1.03326, saving model to ./model_weights/chuks_model_02-0.447368.h5\n",
            "5/5 [==============================] - 6s 1s/step - loss: 1.5317 - accuracy: 0.3981 - val_loss: 1.0333 - val_accuracy: 0.4474\n",
            "Epoch 3/70\n",
            "5/5 [==============================] - ETA: 0s - loss: 1.5477 - accuracy: 0.3981\n",
            "Epoch 3: val_loss improved from 1.03326 to 1.00787, saving model to ./model_weights/chuks_model_03-0.447368.h5\n",
            "5/5 [==============================] - 3s 515ms/step - loss: 1.5477 - accuracy: 0.3981 - val_loss: 1.0079 - val_accuracy: 0.4474\n",
            "Epoch 4/70\n",
            "5/5 [==============================] - ETA: 0s - loss: 1.7136 - accuracy: 0.4074\n",
            "Epoch 4: val_loss improved from 1.00787 to 0.98407, saving model to ./model_weights/chuks_model_04-0.447368.h5\n",
            "5/5 [==============================] - 3s 652ms/step - loss: 1.7136 - accuracy: 0.4074 - val_loss: 0.9841 - val_accuracy: 0.4474\n",
            "Epoch 5/70\n",
            "5/5 [==============================] - ETA: 0s - loss: 1.5205 - accuracy: 0.4167\n",
            "Epoch 5: val_loss improved from 0.98407 to 0.96058, saving model to ./model_weights/chuks_model_05-0.447368.h5\n",
            "5/5 [==============================] - 3s 599ms/step - loss: 1.5205 - accuracy: 0.4167 - val_loss: 0.9606 - val_accuracy: 0.4474\n",
            "Epoch 6/70\n",
            "5/5 [==============================] - ETA: 0s - loss: 1.5713 - accuracy: 0.4074\n",
            "Epoch 6: val_loss improved from 0.96058 to 0.93754, saving model to ./model_weights/chuks_model_06-0.447368.h5\n",
            "5/5 [==============================] - 2s 434ms/step - loss: 1.5713 - accuracy: 0.4074 - val_loss: 0.9375 - val_accuracy: 0.4474\n",
            "Epoch 7/70\n",
            "5/5 [==============================] - ETA: 0s - loss: 1.3651 - accuracy: 0.3981\n",
            "Epoch 7: val_loss improved from 0.93754 to 0.91546, saving model to ./model_weights/chuks_model_07-0.447368.h5\n",
            "5/5 [==============================] - 2s 422ms/step - loss: 1.3651 - accuracy: 0.3981 - val_loss: 0.9155 - val_accuracy: 0.4474\n",
            "Epoch 8/70\n",
            "5/5 [==============================] - ETA: 0s - loss: 1.5216 - accuracy: 0.4074\n",
            "Epoch 8: val_loss improved from 0.91546 to 0.89530, saving model to ./model_weights/chuks_model_08-0.447368.h5\n",
            "5/5 [==============================] - 2s 432ms/step - loss: 1.5216 - accuracy: 0.4074 - val_loss: 0.8953 - val_accuracy: 0.4474\n",
            "Epoch 9/70\n",
            "5/5 [==============================] - ETA: 0s - loss: 1.4235 - accuracy: 0.3981\n",
            "Epoch 9: val_loss improved from 0.89530 to 0.87621, saving model to ./model_weights/chuks_model_09-0.473684.h5\n",
            "5/5 [==============================] - 3s 526ms/step - loss: 1.4235 - accuracy: 0.3981 - val_loss: 0.8762 - val_accuracy: 0.4737\n",
            "Epoch 10/70\n",
            "5/5 [==============================] - ETA: 0s - loss: 1.1956 - accuracy: 0.4259\n",
            "Epoch 10: val_loss improved from 0.87621 to 0.86084, saving model to ./model_weights/chuks_model_10-0.473684.h5\n",
            "5/5 [==============================] - 3s 558ms/step - loss: 1.1956 - accuracy: 0.4259 - val_loss: 0.8608 - val_accuracy: 0.4737\n",
            "Epoch 11/70\n",
            "5/5 [==============================] - ETA: 0s - loss: 1.2653 - accuracy: 0.4074\n",
            "Epoch 11: val_loss improved from 0.86084 to 0.84661, saving model to ./model_weights/chuks_model_11-0.473684.h5\n",
            "5/5 [==============================] - 2s 429ms/step - loss: 1.2653 - accuracy: 0.4074 - val_loss: 0.8466 - val_accuracy: 0.4737\n",
            "Epoch 12/70\n",
            "5/5 [==============================] - ETA: 0s - loss: 1.3668 - accuracy: 0.4167\n",
            "Epoch 12: val_loss improved from 0.84661 to 0.83176, saving model to ./model_weights/chuks_model_12-0.473684.h5\n",
            "5/5 [==============================] - 2s 425ms/step - loss: 1.3668 - accuracy: 0.4167 - val_loss: 0.8318 - val_accuracy: 0.4737\n",
            "Epoch 13/70\n",
            "5/5 [==============================] - ETA: 0s - loss: 1.3865 - accuracy: 0.4167\n",
            "Epoch 13: val_loss improved from 0.83176 to 0.81651, saving model to ./model_weights/chuks_model_13-0.500000.h5\n",
            "5/5 [==============================] - 2s 482ms/step - loss: 1.3865 - accuracy: 0.4167 - val_loss: 0.8165 - val_accuracy: 0.5000\n",
            "Epoch 14/70\n",
            "5/5 [==============================] - ETA: 0s - loss: 1.3193 - accuracy: 0.4074\n",
            "Epoch 14: val_loss improved from 0.81651 to 0.80207, saving model to ./model_weights/chuks_model_14-0.526316.h5\n",
            "5/5 [==============================] - 2s 424ms/step - loss: 1.3193 - accuracy: 0.4074 - val_loss: 0.8021 - val_accuracy: 0.5263\n",
            "Epoch 15/70\n",
            "5/5 [==============================] - ETA: 0s - loss: 1.2778 - accuracy: 0.4352\n",
            "Epoch 15: val_loss improved from 0.80207 to 0.78899, saving model to ./model_weights/chuks_model_15-0.526316.h5\n",
            "5/5 [==============================] - 3s 625ms/step - loss: 1.2778 - accuracy: 0.4352 - val_loss: 0.7890 - val_accuracy: 0.5263\n",
            "Epoch 16/70\n",
            "5/5 [==============================] - ETA: 0s - loss: 1.1908 - accuracy: 0.4167\n",
            "Epoch 16: val_loss improved from 0.78899 to 0.77633, saving model to ./model_weights/chuks_model_16-0.526316.h5\n",
            "5/5 [==============================] - 2s 437ms/step - loss: 1.1908 - accuracy: 0.4167 - val_loss: 0.7763 - val_accuracy: 0.5263\n",
            "Epoch 17/70\n",
            "5/5 [==============================] - ETA: 0s - loss: 1.1069 - accuracy: 0.4074\n",
            "Epoch 17: val_loss improved from 0.77633 to 0.76420, saving model to ./model_weights/chuks_model_17-0.526316.h5\n",
            "5/5 [==============================] - 2s 415ms/step - loss: 1.1069 - accuracy: 0.4074 - val_loss: 0.7642 - val_accuracy: 0.5263\n",
            "Epoch 18/70\n",
            "5/5 [==============================] - ETA: 0s - loss: 1.1121 - accuracy: 0.4074\n",
            "Epoch 18: val_loss improved from 0.76420 to 0.75309, saving model to ./model_weights/chuks_model_18-0.526316.h5\n",
            "5/5 [==============================] - 2s 491ms/step - loss: 1.1121 - accuracy: 0.4074 - val_loss: 0.7531 - val_accuracy: 0.5263\n",
            "Epoch 19/70\n",
            "5/5 [==============================] - ETA: 0s - loss: 1.0748 - accuracy: 0.4444\n",
            "Epoch 19: val_loss improved from 0.75309 to 0.74199, saving model to ./model_weights/chuks_model_19-0.526316.h5\n",
            "5/5 [==============================] - 2s 416ms/step - loss: 1.0748 - accuracy: 0.4444 - val_loss: 0.7420 - val_accuracy: 0.5263\n",
            "Epoch 20/70\n",
            "5/5 [==============================] - ETA: 0s - loss: 1.0801 - accuracy: 0.4537\n",
            "Epoch 20: val_loss improved from 0.74199 to 0.73069, saving model to ./model_weights/chuks_model_20-0.526316.h5\n",
            "5/5 [==============================] - 2s 435ms/step - loss: 1.0801 - accuracy: 0.4537 - val_loss: 0.7307 - val_accuracy: 0.5263\n",
            "Epoch 21/70\n",
            "5/5 [==============================] - ETA: 0s - loss: 1.1310 - accuracy: 0.4352\n",
            "Epoch 21: val_loss improved from 0.73069 to 0.72032, saving model to ./model_weights/chuks_model_21-0.526316.h5\n",
            "5/5 [==============================] - 3s 749ms/step - loss: 1.1310 - accuracy: 0.4352 - val_loss: 0.7203 - val_accuracy: 0.5263\n",
            "Epoch 22/70\n",
            "5/5 [==============================] - ETA: 0s - loss: 1.1121 - accuracy: 0.4444\n",
            "Epoch 22: val_loss improved from 0.72032 to 0.70994, saving model to ./model_weights/chuks_model_22-0.526316.h5\n",
            "5/5 [==============================] - 2s 413ms/step - loss: 1.1121 - accuracy: 0.4444 - val_loss: 0.7099 - val_accuracy: 0.5263\n",
            "Epoch 23/70\n",
            "5/5 [==============================] - ETA: 0s - loss: 1.0604 - accuracy: 0.4537\n",
            "Epoch 23: val_loss improved from 0.70994 to 0.69987, saving model to ./model_weights/chuks_model_23-0.526316.h5\n",
            "5/5 [==============================] - 2s 414ms/step - loss: 1.0604 - accuracy: 0.4537 - val_loss: 0.6999 - val_accuracy: 0.5263\n",
            "Epoch 24/70\n",
            "5/5 [==============================] - ETA: 0s - loss: 1.0426 - accuracy: 0.4444\n",
            "Epoch 24: val_loss improved from 0.69987 to 0.68896, saving model to ./model_weights/chuks_model_24-0.526316.h5\n",
            "5/5 [==============================] - 2s 435ms/step - loss: 1.0426 - accuracy: 0.4444 - val_loss: 0.6890 - val_accuracy: 0.5263\n",
            "Epoch 25/70\n",
            "5/5 [==============================] - ETA: 0s - loss: 0.9364 - accuracy: 0.4722\n",
            "Epoch 25: val_loss improved from 0.68896 to 0.67803, saving model to ./model_weights/chuks_model_25-0.526316.h5\n",
            "5/5 [==============================] - 3s 656ms/step - loss: 0.9364 - accuracy: 0.4722 - val_loss: 0.6780 - val_accuracy: 0.5263\n",
            "Epoch 26/70\n",
            "5/5 [==============================] - ETA: 0s - loss: 1.0428 - accuracy: 0.4907\n",
            "Epoch 26: val_loss improved from 0.67803 to 0.66839, saving model to ./model_weights/chuks_model_26-0.578947.h5\n",
            "5/5 [==============================] - 2s 422ms/step - loss: 1.0428 - accuracy: 0.4907 - val_loss: 0.6684 - val_accuracy: 0.5789\n",
            "Epoch 27/70\n",
            "5/5 [==============================] - ETA: 0s - loss: 1.0948 - accuracy: 0.4537\n",
            "Epoch 27: val_loss improved from 0.66839 to 0.65901, saving model to ./model_weights/chuks_model_27-0.578947.h5\n",
            "5/5 [==============================] - 2s 421ms/step - loss: 1.0948 - accuracy: 0.4537 - val_loss: 0.6590 - val_accuracy: 0.5789\n",
            "Epoch 28/70\n",
            "5/5 [==============================] - ETA: 0s - loss: 0.8287 - accuracy: 0.4815\n",
            "Epoch 28: val_loss improved from 0.65901 to 0.65016, saving model to ./model_weights/chuks_model_28-0.578947.h5\n",
            "5/5 [==============================] - 2s 426ms/step - loss: 0.8287 - accuracy: 0.4815 - val_loss: 0.6502 - val_accuracy: 0.5789\n",
            "Epoch 29/70\n",
            "5/5 [==============================] - ETA: 0s - loss: 0.9527 - accuracy: 0.4444\n",
            "Epoch 29: val_loss improved from 0.65016 to 0.64146, saving model to ./model_weights/chuks_model_29-0.605263.h5\n",
            "5/5 [==============================] - 2s 444ms/step - loss: 0.9527 - accuracy: 0.4444 - val_loss: 0.6415 - val_accuracy: 0.6053\n",
            "Epoch 30/70\n",
            "5/5 [==============================] - ETA: 0s - loss: 0.8591 - accuracy: 0.4722\n",
            "Epoch 30: val_loss improved from 0.64146 to 0.63281, saving model to ./model_weights/chuks_model_30-0.631579.h5\n",
            "5/5 [==============================] - 3s 636ms/step - loss: 0.8591 - accuracy: 0.4722 - val_loss: 0.6328 - val_accuracy: 0.6316\n",
            "Epoch 31/70\n",
            "5/5 [==============================] - ETA: 0s - loss: 0.8594 - accuracy: 0.4815\n",
            "Epoch 31: val_loss improved from 0.63281 to 0.62476, saving model to ./model_weights/chuks_model_31-0.631579.h5\n",
            "5/5 [==============================] - 2s 426ms/step - loss: 0.8594 - accuracy: 0.4815 - val_loss: 0.6248 - val_accuracy: 0.6316\n",
            "Epoch 32/70\n",
            "5/5 [==============================] - ETA: 0s - loss: 0.9933 - accuracy: 0.4167\n",
            "Epoch 32: val_loss improved from 0.62476 to 0.61665, saving model to ./model_weights/chuks_model_32-0.631579.h5\n",
            "5/5 [==============================] - 2s 418ms/step - loss: 0.9933 - accuracy: 0.4167 - val_loss: 0.6167 - val_accuracy: 0.6316\n",
            "Epoch 33/70\n",
            "5/5 [==============================] - ETA: 0s - loss: 1.0448 - accuracy: 0.4537\n",
            "Epoch 33: val_loss improved from 0.61665 to 0.60843, saving model to ./model_weights/chuks_model_33-0.657895.h5\n",
            "5/5 [==============================] - 2s 432ms/step - loss: 1.0448 - accuracy: 0.4537 - val_loss: 0.6084 - val_accuracy: 0.6579\n",
            "Epoch 34/70\n",
            "5/5 [==============================] - ETA: 0s - loss: 0.8478 - accuracy: 0.5278\n",
            "Epoch 34: val_loss improved from 0.60843 to 0.60048, saving model to ./model_weights/chuks_model_34-0.657895.h5\n",
            "5/5 [==============================] - 4s 880ms/step - loss: 0.8478 - accuracy: 0.5278 - val_loss: 0.6005 - val_accuracy: 0.6579\n",
            "Epoch 35/70\n",
            "5/5 [==============================] - ETA: 0s - loss: 0.9336 - accuracy: 0.5741\n",
            "Epoch 35: val_loss improved from 0.60048 to 0.59231, saving model to ./model_weights/chuks_model_35-0.684211.h5\n",
            "5/5 [==============================] - 2s 417ms/step - loss: 0.9336 - accuracy: 0.5741 - val_loss: 0.5923 - val_accuracy: 0.6842\n",
            "Epoch 36/70\n",
            "5/5 [==============================] - ETA: 0s - loss: 0.8696 - accuracy: 0.4907\n",
            "Epoch 36: val_loss improved from 0.59231 to 0.58498, saving model to ./model_weights/chuks_model_36-0.736842.h5\n",
            "5/5 [==============================] - 2s 422ms/step - loss: 0.8696 - accuracy: 0.4907 - val_loss: 0.5850 - val_accuracy: 0.7368\n",
            "Epoch 37/70\n",
            "5/5 [==============================] - ETA: 0s - loss: 0.8504 - accuracy: 0.5000\n",
            "Epoch 37: val_loss improved from 0.58498 to 0.57808, saving model to ./model_weights/chuks_model_37-0.736842.h5\n",
            "5/5 [==============================] - 2s 484ms/step - loss: 0.8504 - accuracy: 0.5000 - val_loss: 0.5781 - val_accuracy: 0.7368\n",
            "Epoch 38/70\n",
            "5/5 [==============================] - ETA: 0s - loss: 0.7811 - accuracy: 0.4907\n",
            "Epoch 38: val_loss improved from 0.57808 to 0.57175, saving model to ./model_weights/chuks_model_38-0.736842.h5\n",
            "5/5 [==============================] - 2s 429ms/step - loss: 0.7811 - accuracy: 0.4907 - val_loss: 0.5717 - val_accuracy: 0.7368\n",
            "Epoch 39/70\n",
            "5/5 [==============================] - ETA: 0s - loss: 0.8506 - accuracy: 0.5000\n",
            "Epoch 39: val_loss improved from 0.57175 to 0.56604, saving model to ./model_weights/chuks_model_39-0.736842.h5\n",
            "5/5 [==============================] - 4s 804ms/step - loss: 0.8506 - accuracy: 0.5000 - val_loss: 0.5660 - val_accuracy: 0.7368\n",
            "Epoch 40/70\n",
            "5/5 [==============================] - ETA: 0s - loss: 0.7964 - accuracy: 0.5278\n",
            "Epoch 40: val_loss improved from 0.56604 to 0.55985, saving model to ./model_weights/chuks_model_40-0.736842.h5\n",
            "5/5 [==============================] - 2s 489ms/step - loss: 0.7964 - accuracy: 0.5278 - val_loss: 0.5599 - val_accuracy: 0.7368\n",
            "Epoch 41/70\n",
            "5/5 [==============================] - ETA: 0s - loss: 0.8576 - accuracy: 0.4815\n",
            "Epoch 41: val_loss improved from 0.55985 to 0.55342, saving model to ./model_weights/chuks_model_41-0.736842.h5\n",
            "5/5 [==============================] - 2s 433ms/step - loss: 0.8576 - accuracy: 0.4815 - val_loss: 0.5534 - val_accuracy: 0.7368\n",
            "Epoch 42/70\n",
            "5/5 [==============================] - ETA: 0s - loss: 0.7644 - accuracy: 0.5370\n",
            "Epoch 42: val_loss improved from 0.55342 to 0.54733, saving model to ./model_weights/chuks_model_42-0.736842.h5\n",
            "5/5 [==============================] - 2s 426ms/step - loss: 0.7644 - accuracy: 0.5370 - val_loss: 0.5473 - val_accuracy: 0.7368\n",
            "Epoch 43/70\n",
            "5/5 [==============================] - ETA: 0s - loss: 0.7398 - accuracy: 0.6296\n",
            "Epoch 43: val_loss improved from 0.54733 to 0.54198, saving model to ./model_weights/chuks_model_43-0.789474.h5\n",
            "5/5 [==============================] - 3s 542ms/step - loss: 0.7398 - accuracy: 0.6296 - val_loss: 0.5420 - val_accuracy: 0.7895\n",
            "Epoch 44/70\n",
            "5/5 [==============================] - ETA: 0s - loss: 0.8263 - accuracy: 0.5833\n",
            "Epoch 44: val_loss improved from 0.54198 to 0.53706, saving model to ./model_weights/chuks_model_44-0.789474.h5\n",
            "5/5 [==============================] - 2s 483ms/step - loss: 0.8263 - accuracy: 0.5833 - val_loss: 0.5371 - val_accuracy: 0.7895\n",
            "Epoch 45/70\n",
            "5/5 [==============================] - ETA: 0s - loss: 0.7487 - accuracy: 0.6111\n",
            "Epoch 45: val_loss improved from 0.53706 to 0.53258, saving model to ./model_weights/chuks_model_45-0.815789.h5\n",
            "5/5 [==============================] - 2s 421ms/step - loss: 0.7487 - accuracy: 0.6111 - val_loss: 0.5326 - val_accuracy: 0.8158\n",
            "Epoch 46/70\n",
            "5/5 [==============================] - ETA: 0s - loss: 0.7551 - accuracy: 0.5648\n",
            "Epoch 46: val_loss improved from 0.53258 to 0.52834, saving model to ./model_weights/chuks_model_46-0.815789.h5\n",
            "5/5 [==============================] - 2s 422ms/step - loss: 0.7551 - accuracy: 0.5648 - val_loss: 0.5283 - val_accuracy: 0.8158\n",
            "Epoch 47/70\n",
            "5/5 [==============================] - ETA: 0s - loss: 0.6914 - accuracy: 0.6111\n",
            "Epoch 47: val_loss improved from 0.52834 to 0.52452, saving model to ./model_weights/chuks_model_47-0.815789.h5\n",
            "5/5 [==============================] - 2s 446ms/step - loss: 0.6914 - accuracy: 0.6111 - val_loss: 0.5245 - val_accuracy: 0.8158\n",
            "Epoch 48/70\n",
            "5/5 [==============================] - ETA: 0s - loss: 0.6938 - accuracy: 0.5926\n",
            "Epoch 48: val_loss improved from 0.52452 to 0.52105, saving model to ./model_weights/chuks_model_48-0.815789.h5\n",
            "5/5 [==============================] - 3s 685ms/step - loss: 0.6938 - accuracy: 0.5926 - val_loss: 0.5210 - val_accuracy: 0.8158\n",
            "Epoch 49/70\n",
            "5/5 [==============================] - ETA: 0s - loss: 0.6879 - accuracy: 0.5926\n",
            "Epoch 49: val_loss improved from 0.52105 to 0.51773, saving model to ./model_weights/chuks_model_49-0.815789.h5\n",
            "5/5 [==============================] - 2s 422ms/step - loss: 0.6879 - accuracy: 0.5926 - val_loss: 0.5177 - val_accuracy: 0.8158\n",
            "Epoch 50/70\n",
            "5/5 [==============================] - ETA: 0s - loss: 0.7035 - accuracy: 0.5833\n",
            "Epoch 50: val_loss improved from 0.51773 to 0.51446, saving model to ./model_weights/chuks_model_50-0.815789.h5\n",
            "5/5 [==============================] - 2s 484ms/step - loss: 0.7035 - accuracy: 0.5833 - val_loss: 0.5145 - val_accuracy: 0.8158\n",
            "Epoch 51/70\n",
            "5/5 [==============================] - ETA: 0s - loss: 0.7612 - accuracy: 0.5093\n",
            "Epoch 51: val_loss improved from 0.51446 to 0.51124, saving model to ./model_weights/chuks_model_51-0.815789.h5\n",
            "5/5 [==============================] - 2s 426ms/step - loss: 0.7612 - accuracy: 0.5093 - val_loss: 0.5112 - val_accuracy: 0.8158\n",
            "Epoch 52/70\n",
            "5/5 [==============================] - ETA: 0s - loss: 0.6904 - accuracy: 0.6204\n",
            "Epoch 52: val_loss improved from 0.51124 to 0.50793, saving model to ./model_weights/chuks_model_52-0.815789.h5\n",
            "5/5 [==============================] - 2s 430ms/step - loss: 0.6904 - accuracy: 0.6204 - val_loss: 0.5079 - val_accuracy: 0.8158\n",
            "Epoch 53/70\n",
            "5/5 [==============================] - ETA: 0s - loss: 0.6990 - accuracy: 0.6019\n",
            "Epoch 53: val_loss improved from 0.50793 to 0.50488, saving model to ./model_weights/chuks_model_53-0.815789.h5\n",
            "5/5 [==============================] - 3s 658ms/step - loss: 0.6990 - accuracy: 0.6019 - val_loss: 0.5049 - val_accuracy: 0.8158\n",
            "Epoch 54/70\n",
            "5/5 [==============================] - ETA: 0s - loss: 0.7843 - accuracy: 0.5741\n",
            "Epoch 54: val_loss improved from 0.50488 to 0.50189, saving model to ./model_weights/chuks_model_54-0.815789.h5\n",
            "5/5 [==============================] - 2s 438ms/step - loss: 0.7843 - accuracy: 0.5741 - val_loss: 0.5019 - val_accuracy: 0.8158\n",
            "Epoch 55/70\n",
            "5/5 [==============================] - ETA: 0s - loss: 0.8012 - accuracy: 0.5648\n",
            "Epoch 55: val_loss improved from 0.50189 to 0.49881, saving model to ./model_weights/chuks_model_55-0.815789.h5\n",
            "5/5 [==============================] - 2s 422ms/step - loss: 0.8012 - accuracy: 0.5648 - val_loss: 0.4988 - val_accuracy: 0.8158\n",
            "Epoch 56/70\n",
            "5/5 [==============================] - ETA: 0s - loss: 0.6614 - accuracy: 0.6759\n",
            "Epoch 56: val_loss improved from 0.49881 to 0.49565, saving model to ./model_weights/chuks_model_56-0.815789.h5\n",
            "5/5 [==============================] - 2s 486ms/step - loss: 0.6614 - accuracy: 0.6759 - val_loss: 0.4956 - val_accuracy: 0.8158\n",
            "Epoch 57/70\n",
            "5/5 [==============================] - ETA: 0s - loss: 0.7555 - accuracy: 0.5833\n",
            "Epoch 57: val_loss improved from 0.49565 to 0.49251, saving model to ./model_weights/chuks_model_57-0.815789.h5\n",
            "5/5 [==============================] - 2s 508ms/step - loss: 0.7555 - accuracy: 0.5833 - val_loss: 0.4925 - val_accuracy: 0.8158\n",
            "Epoch 58/70\n",
            "5/5 [==============================] - ETA: 0s - loss: 0.6518 - accuracy: 0.7037\n",
            "Epoch 58: val_loss improved from 0.49251 to 0.48940, saving model to ./model_weights/chuks_model_58-0.815789.h5\n",
            "5/5 [==============================] - 3s 655ms/step - loss: 0.6518 - accuracy: 0.7037 - val_loss: 0.4894 - val_accuracy: 0.8158\n",
            "Epoch 59/70\n",
            "5/5 [==============================] - ETA: 0s - loss: 0.6539 - accuracy: 0.7037\n",
            "Epoch 59: val_loss improved from 0.48940 to 0.48637, saving model to ./model_weights/chuks_model_59-0.815789.h5\n",
            "5/5 [==============================] - 2s 436ms/step - loss: 0.6539 - accuracy: 0.7037 - val_loss: 0.4864 - val_accuracy: 0.8158\n",
            "Epoch 60/70\n",
            "5/5 [==============================] - ETA: 0s - loss: 0.6646 - accuracy: 0.6204\n",
            "Epoch 60: val_loss improved from 0.48637 to 0.48327, saving model to ./model_weights/chuks_model_60-0.815789.h5\n",
            "5/5 [==============================] - 2s 490ms/step - loss: 0.6646 - accuracy: 0.6204 - val_loss: 0.4833 - val_accuracy: 0.8158\n",
            "Epoch 61/70\n",
            "5/5 [==============================] - ETA: 0s - loss: 0.6558 - accuracy: 0.6759\n",
            "Epoch 61: val_loss improved from 0.48327 to 0.48023, saving model to ./model_weights/chuks_model_61-0.815789.h5\n",
            "5/5 [==============================] - 2s 415ms/step - loss: 0.6558 - accuracy: 0.6759 - val_loss: 0.4802 - val_accuracy: 0.8158\n",
            "Epoch 62/70\n",
            "5/5 [==============================] - ETA: 0s - loss: 0.5557 - accuracy: 0.7407\n",
            "Epoch 62: val_loss improved from 0.48023 to 0.47744, saving model to ./model_weights/chuks_model_62-0.842105.h5\n",
            "5/5 [==============================] - 3s 625ms/step - loss: 0.5557 - accuracy: 0.7407 - val_loss: 0.4774 - val_accuracy: 0.8421\n",
            "Epoch 63/70\n",
            "5/5 [==============================] - ETA: 0s - loss: 0.6040 - accuracy: 0.7130\n",
            "Epoch 63: val_loss improved from 0.47744 to 0.47481, saving model to ./model_weights/chuks_model_63-0.842105.h5\n",
            "5/5 [==============================] - 2s 537ms/step - loss: 0.6040 - accuracy: 0.7130 - val_loss: 0.4748 - val_accuracy: 0.8421\n",
            "Epoch 64/70\n",
            "5/5 [==============================] - ETA: 0s - loss: 0.6490 - accuracy: 0.6481\n",
            "Epoch 64: val_loss improved from 0.47481 to 0.47225, saving model to ./model_weights/chuks_model_64-0.842105.h5\n",
            "5/5 [==============================] - 2s 430ms/step - loss: 0.6490 - accuracy: 0.6481 - val_loss: 0.4723 - val_accuracy: 0.8421\n",
            "Epoch 65/70\n",
            "5/5 [==============================] - ETA: 0s - loss: 0.6939 - accuracy: 0.6111\n",
            "Epoch 65: val_loss improved from 0.47225 to 0.46968, saving model to ./model_weights/chuks_model_65-0.842105.h5\n",
            "5/5 [==============================] - 2s 432ms/step - loss: 0.6939 - accuracy: 0.6111 - val_loss: 0.4697 - val_accuracy: 0.8421\n",
            "Epoch 66/70\n",
            "5/5 [==============================] - ETA: 0s - loss: 0.6643 - accuracy: 0.6204\n",
            "Epoch 66: val_loss improved from 0.46968 to 0.46701, saving model to ./model_weights/chuks_model_66-0.842105.h5\n",
            "5/5 [==============================] - 2s 432ms/step - loss: 0.6643 - accuracy: 0.6204 - val_loss: 0.4670 - val_accuracy: 0.8421\n",
            "Epoch 67/70\n",
            "5/5 [==============================] - ETA: 0s - loss: 0.6275 - accuracy: 0.6944\n",
            "Epoch 67: val_loss improved from 0.46701 to 0.46427, saving model to ./model_weights/chuks_model_67-0.842105.h5\n",
            "5/5 [==============================] - 2s 539ms/step - loss: 0.6275 - accuracy: 0.6944 - val_loss: 0.4643 - val_accuracy: 0.8421\n",
            "Epoch 68/70\n",
            "5/5 [==============================] - ETA: 0s - loss: 0.6869 - accuracy: 0.6389\n",
            "Epoch 68: val_loss improved from 0.46427 to 0.46170, saving model to ./model_weights/chuks_model_68-0.842105.h5\n",
            "5/5 [==============================] - 3s 659ms/step - loss: 0.6869 - accuracy: 0.6389 - val_loss: 0.4617 - val_accuracy: 0.8421\n",
            "Epoch 69/70\n",
            "5/5 [==============================] - ETA: 0s - loss: 0.6553 - accuracy: 0.6481\n",
            "Epoch 69: val_loss improved from 0.46170 to 0.45912, saving model to ./model_weights/chuks_model_69-0.842105.h5\n",
            "5/5 [==============================] - 2s 440ms/step - loss: 0.6553 - accuracy: 0.6481 - val_loss: 0.4591 - val_accuracy: 0.8421\n",
            "Epoch 70/70\n",
            "5/5 [==============================] - ETA: 0s - loss: 0.5855 - accuracy: 0.7593\n",
            "Epoch 70: val_loss improved from 0.45912 to 0.45638, saving model to ./model_weights/chuks_model_70-0.894737.h5\n",
            "5/5 [==============================] - 2s 428ms/step - loss: 0.5855 - accuracy: 0.7593 - val_loss: 0.4564 - val_accuracy: 0.8947\n"
          ]
        }
      ],
      "source": [
        "history = model.fit_generator(\n",
        "    train_generator,\n",
        "    #steps_per_epoch = train_generator.samples // 2,\n",
        "    validation_data = valid_generator, \n",
        "    #validation_steps = valid_generator.samples // 2,\n",
        "    epochs = 70,\n",
        "    callbacks=[model_checkpoint])"
      ]
    },
    {
      "cell_type": "markdown",
      "source": [
        "##### Saving the model as a JSON file"
      ],
      "metadata": {
        "id": "A-4hfi41gUTU"
      }
    },
    {
      "cell_type": "code",
      "execution_count": 27,
      "metadata": {
        "id": "Sk0sjxQkUulV"
      },
      "outputs": [],
      "source": [
        "# serialize model to JSON\n",
        "model_json = model.to_json()\n",
        "with open(\"chuks_model.json\", \"w\") as json_file:\n",
        "    json_file.write(model_json)"
      ]
    },
    {
      "cell_type": "markdown",
      "source": [
        "### Performance/ Accuracy test"
      ],
      "metadata": {
        "id": "jo87gnuyhLon"
      }
    },
    {
      "cell_type": "code",
      "source": [
        "# Training Vs Validation Accuracy\n",
        "\n",
        "train_accuracy = history.history['accuracy']\n",
        "validation_accuracy = history.history['val_accuracy']\n",
        "epochs = range(1,71)\n",
        "plt.plot(epochs,train_accuracy,'g',label='Training Accuracy')\n",
        "plt.plot(epochs,validation_accuracy,'b',label='Validation Accuracy')\n",
        "plt.title('Training Vs Validation Accuracy')\n",
        "plt.xlabel('Epochs')\n",
        "plt.ylabel('Accuracy')\n",
        "plt.legend()\n",
        "plt.show()"
      ],
      "metadata": {
        "id": "MI4MyiLvhT8W",
        "colab": {
          "base_uri": "https://localhost:8080/",
          "height": 472
        },
        "outputId": "24ebbb56-dae1-4286-f9f6-427b605eb679"
      },
      "execution_count": 29,
      "outputs": [
        {
          "output_type": "display_data",
          "data": {
            "text/plain": [
              "<Figure size 640x480 with 1 Axes>"
            ],
            "image/png": "[encoded data removed]"
          },
          "metadata": {}
        }
      ]
    },
    {
      "cell_type": "code",
      "source": [
        "# Training and Validation Loss\n",
        "\n",
        "train_loss = history.history['loss']\n",
        "val_loss = history.history['val_loss']\n",
        "epochs = range(1,71)\n",
        "plt.plot(epochs,train_loss,'g', label='Training Loss')\n",
        "plt.plot(epochs, val_loss, 'b', label='validation Loss')\n",
        "plt.title('Training and Validation Loss')\n",
        "plt.xlabel('Epochs')\n",
        "plt.ylabel('Accuracy')\n",
        "plt.legend()\n",
        "plt.show()"
      ],
      "metadata": {
        "id": "BfK9GQIehhjI",
        "colab": {
          "base_uri": "https://localhost:8080/",
          "height": 472
        },
        "outputId": "c48062e4-2991-47f4-b40e-c99859fadd1e"
      },
      "execution_count": 30,
      "outputs": [
        {
          "output_type": "display_data",
          "data": {
            "text/plain": [
              "<Figure size 640x480 with 1 Axes>"
            ],
            "image/png": "[encoded data removed]"
          },
          "metadata": {}
        }
      ]
    },
    {
      "cell_type": "markdown",
      "source": [
        "#### Testing the model by using different images to determine the performance of the model"
      ],
      "metadata": {
        "id": "KlavD7TmgaRn"
      }
    },
    {
      "cell_type": "code",
      "execution_count": 31,
      "metadata": {
        "id": "CwGT87ufBXL0"
      },
      "outputs": [],
      "source": [
        "# running predictions\n",
        "\n",
        "from keras.utils import load_img, img_to_array\n",
        "import numpy as np\n",
        "\n",
        "def check_fakes(path,category_type):\n",
        "  predictor = {}\n",
        "  path= os.path.join(path,category_type)\n",
        "  for img in os.listdir(path):\n",
        "    try:\n",
        "      img = load_img(os.path.join(path,img),target_size=(160,160))\n",
        "      img = img_to_array(img)\n",
        "      img = np.expand_dims(img,axis=0)\n",
        "      img = img / 255.0\n",
        "      prediction = model.predict(img)\n",
        "      if prediction > 0.5:\n",
        "        prediction_class = 1\n",
        "      else:\n",
        "        prediction_class = 0\n",
        "      result = categories[prediction_class]\n",
        "      if result not in predictor:\n",
        "        predictor[result] = 1\n",
        "      else:\n",
        "        predictor[result] += 1\n",
        "    except Exception as e:\n",
        "      pass\n",
        "  return predictor"
      ]
    },
    {
      "cell_type": "code",
      "execution_count": 32,
      "metadata": {
        "id": "cFzq_wrAzBkd"
      },
      "outputs": [],
      "source": [
        "def image_test(test_path):\n",
        "\n",
        "    try:\n",
        "      img = load_img(test_path,target_size=(160,160))\n",
        "      img = img_to_array(img)\n",
        "      img = np.expand_dims(img,axis=0)\n",
        "      img = img / 255.0\n",
        "\n",
        "      prediction = model.predict(img)\n",
        "\n",
        "      if prediction > 0.5:\n",
        "        prediction_class = 'notchuks'\n",
        "      else:\n",
        "        prediction_class = 'chuks'\n",
        "\n",
        "\n",
        "      result = prediction_class\n",
        "      \n",
        "    except Exception as e:\n",
        "      pass\n",
        "    return 'The image is a {} image'.format(result)\n",
        "\n",
        "#image_test(['path'])"
      ]
    },
    {
      "cell_type": "code",
      "execution_count": 33,
      "metadata": {
        "colab": {
          "base_uri": "https://localhost:8080/",
          "height": 53
        },
        "id": "BKIqHL0uBEHC",
        "outputId": "097e8a73-0493-416e-9915-fa7b8b570501"
      },
      "outputs": [
        {
          "output_type": "stream",
          "name": "stdout",
          "text": [
            "1/1 [==============================] - 1s 1s/step\n"
          ]
        },
        {
          "output_type": "execute_result",
          "data": {
            "text/plain": [
              "'The image is a notchuks image'"
            ],
            "application/vnd.google.colaboratory.intrinsic+json": {
              "type": "string"
            }
          },
          "metadata": {},
          "execution_count": 33
        }
      ],
      "source": [
        "image_test('/content/ebu1.png')"
      ]
    },
    {
      "cell_type": "code",
      "execution_count": null,
      "metadata": {
        "colab": {
          "background_save": true
        },
        "id": "6mNd4Ti4BJsO"
      },
      "outputs": [],
      "source": []
    }
  ],
  "metadata": {
    "accelerator": "GPU",
    "colab": {
      "provenance": []
    },
    "gpuClass": "standard",
    "kernelspec": {
      "display_name": "Python 3",
      "name": "python3"
    },
    "language_info": {
      "name": "python"
    }
  },
  "nbformat": 4,
  "nbformat_minor": 0
}